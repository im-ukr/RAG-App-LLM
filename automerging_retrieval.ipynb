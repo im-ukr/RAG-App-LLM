{
 "cells": [
  {
   "cell_type": "code",
   "execution_count": 1,
   "metadata": {},
   "outputs": [],
   "source": [
    "import warnings\n",
    "warnings.filterwarnings('ignore')"
   ]
  },
  {
   "cell_type": "code",
   "execution_count": 2,
   "metadata": {},
   "outputs": [],
   "source": [
    "import utils\n",
    "\n",
    "import os\n",
    "import openai\n",
    "openai.api_key = os.environ[\"OPENAI_API_KEY\"]"
   ]
  },
  {
   "cell_type": "code",
   "execution_count": 3,
   "metadata": {},
   "outputs": [],
   "source": [
    "from llama_index import SimpleDirectoryReader\n",
    "\n",
    "documents = SimpleDirectoryReader(\n",
    "    input_files=['file']\n",
    ").load_data()"
   ]
  },
  {
   "cell_type": "code",
   "execution_count": null,
   "metadata": {},
   "outputs": [],
   "source": [
    "'''print(type(documents), \"\\n\")\n",
    "print(len(documents), \"\\n\")\n",
    "print(type(documents[0]))\n",
    "print(documents[0])'''"
   ]
  },
  {
   "cell_type": "code",
   "execution_count": 5,
   "metadata": {},
   "outputs": [],
   "source": [
    "# merging all the documents into a single document\n",
    "from llama_index import Document\n",
    "\n",
    "document = Document(text='\\n\\n'.join(doc.text for doc in documents))"
   ]
  },
  {
   "cell_type": "markdown",
   "metadata": {},
   "source": [
    "## Auto-Merging Retrieval Setup"
   ]
  },
  {
   "cell_type": "code",
   "execution_count": 6,
   "metadata": {},
   "outputs": [],
   "source": [
    "from utils import build_automerging_index, get_automerging_query_engine\n",
    "from llama_index.llms import OpenAI\n",
    "\n",
    "index = build_automerging_index(\n",
    "    [document],\n",
    "    llm=OpenAI(model='gpt-3.5-turbo',temperature=0.1),\n",
    "    save_dir='merging_index'\n",
    ")"
   ]
  },
  {
   "cell_type": "code",
   "execution_count": 7,
   "metadata": {},
   "outputs": [],
   "source": [
    "query_engine = get_automerging_query_engine(index, similarity_top_k=10)"
   ]
  },
  {
   "cell_type": "markdown",
   "metadata": {},
   "source": [
    "## TruLens Evaluation"
   ]
  },
  {
   "cell_type": "code",
   "execution_count": 8,
   "metadata": {},
   "outputs": [
    {
     "name": "stdout",
     "output_type": "stream",
     "text": [
      "🦑 Tru initialized with db url sqlite:///default.sqlite .\n",
      "🛑 Secret keys may be written to the database. See the `database_redact_keys` option of `Tru` to prevent this.\n"
     ]
    }
   ],
   "source": [
    "from trulens_eval import Tru\n",
    "\n",
    "Tru().reset_database()"
   ]
  },
  {
   "cell_type": "markdown",
   "metadata": {},
   "source": [
    "### Two Layers"
   ]
  },
  {
   "cell_type": "code",
   "execution_count": 9,
   "metadata": {},
   "outputs": [],
   "source": [
    "auto_merging_index_0 = build_automerging_index(\n",
    "    documents,\n",
    "    llm=OpenAI(model=\"gpt-3.5-turbo\", temperature=0.1),\n",
    "    embed_model=\"local:BAAI/bge-small-en-v1.5\",\n",
    "    save_dir=\"merging_index_0\",\n",
    "    chunk_sizes=[2048,512],\n",
    ")"
   ]
  },
  {
   "cell_type": "code",
   "execution_count": 10,
   "metadata": {},
   "outputs": [],
   "source": [
    "auto_merging_engine_0 = get_automerging_query_engine(\n",
    "    auto_merging_index_0,\n",
    "    similarity_top_k=12,\n",
    "    rerank_top_n=6,\n",
    ")"
   ]
  },
  {
   "cell_type": "code",
   "execution_count": 11,
   "metadata": {},
   "outputs": [
    {
     "name": "stdout",
     "output_type": "stream",
     "text": [
      "✅ In Answer Relevance, input prompt will be set to __record__.main_input or `Select.RecordInput` .\n",
      "✅ In Answer Relevance, input response will be set to __record__.main_output or `Select.RecordOutput` .\n",
      "✅ In Context Relevance, input question will be set to __record__.main_input or `Select.RecordInput` .\n",
      "✅ In Context Relevance, input statement will be set to __record__.app.query.rets.source_nodes[:].node.text .\n",
      "✅ In Groundedness, input source will be set to __record__.app.query.rets.source_nodes[:].node.text .\n",
      "✅ In Groundedness, input statement will be set to __record__.main_output or `Select.RecordOutput` .\n"
     ]
    }
   ],
   "source": [
    "from utils import get_prebuilt_trulens_recorder\n",
    "\n",
    "tru_recorder = get_prebuilt_trulens_recorder(\n",
    "    auto_merging_engine_0,\n",
    "    app_id ='app_0'\n",
    ")"
   ]
  },
  {
   "cell_type": "code",
   "execution_count": 12,
   "metadata": {},
   "outputs": [],
   "source": [
    "questions = []\n",
    "with open('eval_questions.txt','r') as file:\n",
    "    for line in file:\n",
    "        item = line.strip()\n",
    "        questions.append(item)"
   ]
  },
  {
   "cell_type": "code",
   "execution_count": 13,
   "metadata": {},
   "outputs": [
    {
     "data": {
      "text/plain": [
       "['What are the technologies used in the project?',\n",
       " 'What is the installation process?',\n",
       " 'Can you talk about the dataset used in the project?',\n",
       " 'Can you explain the usage of the project?',\n",
       " 'What is the process of deployment used in the project?']"
      ]
     },
     "execution_count": 13,
     "metadata": {},
     "output_type": "execute_result"
    }
   ],
   "source": [
    "questions"
   ]
  },
  {
   "cell_type": "code",
   "execution_count": 14,
   "metadata": {},
   "outputs": [],
   "source": [
    "def run_evals(eval_questions, tru_recorder, query_engine):\n",
    "    for question in eval_questions:\n",
    "        with tru_recorder as recording:\n",
    "            response = query_engine.query(question)"
   ]
  },
  {
   "cell_type": "code",
   "execution_count": 15,
   "metadata": {},
   "outputs": [
    {
     "name": "stdout",
     "output_type": "stream",
     "text": [
      "> Merging 1 nodes into parent node.\n",
      "> Parent node id: 5cc78f86-481e-4d22-bb0a-95455b676714.\n",
      "> Parent node text: 11/28/23, 11:00 PM README.md - Grip\n",
      "localhost:6419 4/4License\n",
      "This project is licensed under the ...\n",
      "\n",
      "> Merging 1 nodes into parent node.\n",
      "> Parent node id: 203a9d57-c8df-4df8-a9a0-00668107434c.\n",
      "> Parent node text: 11/28/23, 11:00 PM README.md - Grip\n",
      "localhost:6419 2/4Installing\n",
      "Install the required packages fr...\n",
      "\n",
      "> Merging 1 nodes into parent node.\n",
      "> Parent node id: 36573faf-1388-4318-9d26-ebdd6abdaacc.\n",
      "> Parent node text: 11/28/23, 11:00 PM README.md - Grip\n",
      "localhost:6419 3/4\u0000. Create an IAM User - with AmazonEC2Conta...\n",
      "\n",
      "> Merging 1 nodes into parent node.\n",
      "> Parent node id: dc183938-748b-4039-9e0b-67a98e6c79e3.\n",
      "> Parent node text: 11/28/23, 11:00 PM README.md - Grip\n",
      "localhost:6419 1/4README.md\n",
      "Medical Cost Prediction\n",
      "Predictin...\n",
      "\n"
     ]
    },
    {
     "name": "stderr",
     "output_type": "stream",
     "text": [
      "huggingface/tokenizers: The current process just got forked, after parallelism has already been used. Disabling parallelism to avoid deadlocks...\n",
      "To disable this warning, you can either:\n",
      "\t- Avoid using `tokenizers` before the fork if possible\n",
      "\t- Explicitly set the environment variable TOKENIZERS_PARALLELISM=(true | false)\n",
      "huggingface/tokenizers: The current process just got forked, after parallelism has already been used. Disabling parallelism to avoid deadlocks...\n",
      "To disable this warning, you can either:\n",
      "\t- Avoid using `tokenizers` before the fork if possible\n",
      "\t- Explicitly set the environment variable TOKENIZERS_PARALLELISM=(true | false)\n",
      "huggingface/tokenizers: The current process just got forked, after parallelism has already been used. Disabling parallelism to avoid deadlocks...\n",
      "To disable this warning, you can either:\n",
      "\t- Avoid using `tokenizers` before the fork if possible\n",
      "\t- Explicitly set the environment variable TOKENIZERS_PARALLELISM=(true | false)\n"
     ]
    },
    {
     "name": "stdout",
     "output_type": "stream",
     "text": [
      "> Merging 1 nodes into parent node.\n",
      "> Parent node id: 203a9d57-c8df-4df8-a9a0-00668107434c.\n",
      "> Parent node text: 11/28/23, 11:00 PM README.md - Grip\n",
      "localhost:6419 2/4Installing\n",
      "Install the required packages fr...\n",
      "\n",
      "> Merging 1 nodes into parent node.\n",
      "> Parent node id: 36573faf-1388-4318-9d26-ebdd6abdaacc.\n",
      "> Parent node text: 11/28/23, 11:00 PM README.md - Grip\n",
      "localhost:6419 3/4\u0000. Create an IAM User - with AmazonEC2Conta...\n",
      "\n",
      "> Merging 1 nodes into parent node.\n",
      "> Parent node id: 5cc78f86-481e-4d22-bb0a-95455b676714.\n",
      "> Parent node text: 11/28/23, 11:00 PM README.md - Grip\n",
      "localhost:6419 4/4License\n",
      "This project is licensed under the ...\n",
      "\n",
      "> Merging 1 nodes into parent node.\n",
      "> Parent node id: dc183938-748b-4039-9e0b-67a98e6c79e3.\n",
      "> Parent node text: 11/28/23, 11:00 PM README.md - Grip\n",
      "localhost:6419 1/4README.md\n",
      "Medical Cost Prediction\n",
      "Predictin...\n",
      "\n",
      "> Merging 1 nodes into parent node.\n",
      "> Parent node id: 203a9d57-c8df-4df8-a9a0-00668107434c.\n",
      "> Parent node text: 11/28/23, 11:00 PM README.md - Grip\n",
      "localhost:6419 2/4Installing\n",
      "Install the required packages fr...\n",
      "\n",
      "> Merging 1 nodes into parent node.\n",
      "> Parent node id: 5cc78f86-481e-4d22-bb0a-95455b676714.\n",
      "> Parent node text: 11/28/23, 11:00 PM README.md - Grip\n",
      "localhost:6419 4/4License\n",
      "This project is licensed under the ...\n",
      "\n",
      "> Merging 1 nodes into parent node.\n",
      "> Parent node id: dc183938-748b-4039-9e0b-67a98e6c79e3.\n",
      "> Parent node text: 11/28/23, 11:00 PM README.md - Grip\n",
      "localhost:6419 1/4README.md\n",
      "Medical Cost Prediction\n",
      "Predictin...\n",
      "\n",
      "> Merging 1 nodes into parent node.\n",
      "> Parent node id: 36573faf-1388-4318-9d26-ebdd6abdaacc.\n",
      "> Parent node text: 11/28/23, 11:00 PM README.md - Grip\n",
      "localhost:6419 3/4\u0000. Create an IAM User - with AmazonEC2Conta...\n",
      "\n",
      "> Merging 1 nodes into parent node.\n",
      "> Parent node id: 203a9d57-c8df-4df8-a9a0-00668107434c.\n",
      "> Parent node text: 11/28/23, 11:00 PM README.md - Grip\n",
      "localhost:6419 2/4Installing\n",
      "Install the required packages fr...\n",
      "\n",
      "> Merging 1 nodes into parent node.\n",
      "> Parent node id: 5cc78f86-481e-4d22-bb0a-95455b676714.\n",
      "> Parent node text: 11/28/23, 11:00 PM README.md - Grip\n",
      "localhost:6419 4/4License\n",
      "This project is licensed under the ...\n",
      "\n",
      "> Merging 1 nodes into parent node.\n",
      "> Parent node id: 36573faf-1388-4318-9d26-ebdd6abdaacc.\n",
      "> Parent node text: 11/28/23, 11:00 PM README.md - Grip\n",
      "localhost:6419 3/4\u0000. Create an IAM User - with AmazonEC2Conta...\n",
      "\n",
      "> Merging 1 nodes into parent node.\n",
      "> Parent node id: dc183938-748b-4039-9e0b-67a98e6c79e3.\n",
      "> Parent node text: 11/28/23, 11:00 PM README.md - Grip\n",
      "localhost:6419 1/4README.md\n",
      "Medical Cost Prediction\n",
      "Predictin...\n",
      "\n",
      "> Merging 1 nodes into parent node.\n",
      "> Parent node id: 203a9d57-c8df-4df8-a9a0-00668107434c.\n",
      "> Parent node text: 11/28/23, 11:00 PM README.md - Grip\n",
      "localhost:6419 2/4Installing\n",
      "Install the required packages fr...\n",
      "\n",
      "> Merging 1 nodes into parent node.\n",
      "> Parent node id: 36573faf-1388-4318-9d26-ebdd6abdaacc.\n",
      "> Parent node text: 11/28/23, 11:00 PM README.md - Grip\n",
      "localhost:6419 3/4\u0000. Create an IAM User - with AmazonEC2Conta...\n",
      "\n",
      "> Merging 1 nodes into parent node.\n",
      "> Parent node id: 5cc78f86-481e-4d22-bb0a-95455b676714.\n",
      "> Parent node text: 11/28/23, 11:00 PM README.md - Grip\n",
      "localhost:6419 4/4License\n",
      "This project is licensed under the ...\n",
      "\n",
      "> Merging 1 nodes into parent node.\n",
      "> Parent node id: dc183938-748b-4039-9e0b-67a98e6c79e3.\n",
      "> Parent node text: 11/28/23, 11:00 PM README.md - Grip\n",
      "localhost:6419 1/4README.md\n",
      "Medical Cost Prediction\n",
      "Predictin...\n",
      "\n"
     ]
    }
   ],
   "source": [
    "run_evals(questions, tru_recorder, auto_merging_engine_0)"
   ]
  },
  {
   "cell_type": "code",
   "execution_count": 16,
   "metadata": {},
   "outputs": [
    {
     "data": {
      "text/html": [
       "<div>\n",
       "<style scoped>\n",
       "    .dataframe tbody tr th:only-of-type {\n",
       "        vertical-align: middle;\n",
       "    }\n",
       "\n",
       "    .dataframe tbody tr th {\n",
       "        vertical-align: top;\n",
       "    }\n",
       "\n",
       "    .dataframe thead th {\n",
       "        text-align: right;\n",
       "    }\n",
       "</style>\n",
       "<table border=\"1\" class=\"dataframe\">\n",
       "  <thead>\n",
       "    <tr style=\"text-align: right;\">\n",
       "      <th></th>\n",
       "      <th>Context Relevance</th>\n",
       "      <th>Answer Relevance</th>\n",
       "      <th>Groundedness</th>\n",
       "      <th>latency</th>\n",
       "      <th>total_cost</th>\n",
       "    </tr>\n",
       "    <tr>\n",
       "      <th>app_id</th>\n",
       "      <th></th>\n",
       "      <th></th>\n",
       "      <th></th>\n",
       "      <th></th>\n",
       "      <th></th>\n",
       "    </tr>\n",
       "  </thead>\n",
       "  <tbody>\n",
       "    <tr>\n",
       "      <th>app_0</th>\n",
       "      <td>0.35625</td>\n",
       "      <td>1.0</td>\n",
       "      <td>0.233333</td>\n",
       "      <td>5.8</td>\n",
       "      <td>0.001836</td>\n",
       "    </tr>\n",
       "  </tbody>\n",
       "</table>\n",
       "</div>"
      ],
      "text/plain": [
       "        Context Relevance  Answer Relevance  Groundedness  latency  total_cost\n",
       "app_id                                                                        \n",
       "app_0             0.35625               1.0      0.233333      5.8    0.001836"
      ]
     },
     "execution_count": 16,
     "metadata": {},
     "output_type": "execute_result"
    }
   ],
   "source": [
    "from trulens_eval import Tru\n",
    "\n",
    "Tru().get_leaderboard(app_ids=[])"
   ]
  },
  {
   "cell_type": "code",
   "execution_count": 17,
   "metadata": {},
   "outputs": [
    {
     "name": "stdout",
     "output_type": "stream",
     "text": [
      "Starting dashboard ...\n",
      "Config file already exists. Skipping writing process.\n",
      "Credentials file already exists. Skipping writing process.\n"
     ]
    },
    {
     "name": "stderr",
     "output_type": "stream",
     "text": [
      "python(3878) MallocStackLogging: can't turn off malloc stack logging because it was not enabled.\n",
      "huggingface/tokenizers: The current process just got forked, after parallelism has already been used. Disabling parallelism to avoid deadlocks...\n",
      "To disable this warning, you can either:\n",
      "\t- Avoid using `tokenizers` before the fork if possible\n",
      "\t- Explicitly set the environment variable TOKENIZERS_PARALLELISM=(true | false)\n"
     ]
    },
    {
     "data": {
      "application/vnd.jupyter.widget-view+json": {
       "model_id": "33f50cd38d9746f7b2b29f0c0f546d70",
       "version_major": 2,
       "version_minor": 0
      },
      "text/plain": [
       "Accordion(children=(VBox(children=(VBox(children=(Label(value='STDOUT'), Output())), VBox(children=(Label(valu…"
      ]
     },
     "metadata": {},
     "output_type": "display_data"
    },
    {
     "name": "stdout",
     "output_type": "stream",
     "text": [
      "Dashboard started at http://192.168.4.34:8501 .\n"
     ]
    },
    {
     "data": {
      "text/plain": [
       "<Popen: returncode: None args: ['streamlit', 'run', '--server.headless=True'...>"
      ]
     },
     "execution_count": 17,
     "metadata": {},
     "output_type": "execute_result"
    }
   ],
   "source": [
    "Tru().run_dashboard()"
   ]
  },
  {
   "cell_type": "markdown",
   "metadata": {},
   "source": [
    "### Three Layers\n"
   ]
  },
  {
   "cell_type": "code",
   "execution_count": 18,
   "metadata": {},
   "outputs": [],
   "source": [
    "auto_merging_index_1 = build_automerging_index(\n",
    "    documents,\n",
    "    llm=OpenAI(model=\"gpt-3.5-turbo\", temperature=0.1),\n",
    "    embed_model=\"local:BAAI/bge-small-en-v1.5\",\n",
    "    save_dir=\"merging_index_0\",\n",
    "    chunk_sizes=[2048,512,128],\n",
    ")"
   ]
  },
  {
   "cell_type": "code",
   "execution_count": 19,
   "metadata": {},
   "outputs": [],
   "source": [
    "auto_merging_engine_1 = get_automerging_query_engine(\n",
    "    auto_merging_index_1,\n",
    "    similarity_top_k=12,\n",
    "    rerank_top_n=6,\n",
    ")"
   ]
  },
  {
   "cell_type": "code",
   "execution_count": 20,
   "metadata": {},
   "outputs": [
    {
     "name": "stdout",
     "output_type": "stream",
     "text": [
      "✅ In Answer Relevance, input prompt will be set to __record__.main_input or `Select.RecordInput` .\n",
      "✅ In Answer Relevance, input response will be set to __record__.main_output or `Select.RecordOutput` .\n",
      "✅ In Context Relevance, input question will be set to __record__.main_input or `Select.RecordInput` .\n",
      "✅ In Context Relevance, input statement will be set to __record__.app.query.rets.source_nodes[:].node.text .\n",
      "✅ In Groundedness, input source will be set to __record__.app.query.rets.source_nodes[:].node.text .\n",
      "✅ In Groundedness, input statement will be set to __record__.main_output or `Select.RecordOutput` .\n"
     ]
    }
   ],
   "source": [
    "from utils import get_prebuilt_trulens_recorder\n",
    "\n",
    "tru_recorder = get_prebuilt_trulens_recorder(\n",
    "    auto_merging_engine_1,\n",
    "    app_id ='app_1'\n",
    ")"
   ]
  },
  {
   "cell_type": "code",
   "execution_count": 21,
   "metadata": {},
   "outputs": [
    {
     "name": "stdout",
     "output_type": "stream",
     "text": [
      "> Merging 1 nodes into parent node.\n",
      "> Parent node id: 5cc78f86-481e-4d22-bb0a-95455b676714.\n",
      "> Parent node text: 11/28/23, 11:00 PM README.md - Grip\n",
      "localhost:6419 4/4License\n",
      "This project is licensed under the ...\n",
      "\n",
      "> Merging 1 nodes into parent node.\n",
      "> Parent node id: 203a9d57-c8df-4df8-a9a0-00668107434c.\n",
      "> Parent node text: 11/28/23, 11:00 PM README.md - Grip\n",
      "localhost:6419 2/4Installing\n",
      "Install the required packages fr...\n",
      "\n",
      "> Merging 1 nodes into parent node.\n",
      "> Parent node id: 36573faf-1388-4318-9d26-ebdd6abdaacc.\n",
      "> Parent node text: 11/28/23, 11:00 PM README.md - Grip\n",
      "localhost:6419 3/4\u0000. Create an IAM User - with AmazonEC2Conta...\n",
      "\n",
      "> Merging 1 nodes into parent node.\n",
      "> Parent node id: dc183938-748b-4039-9e0b-67a98e6c79e3.\n",
      "> Parent node text: 11/28/23, 11:00 PM README.md - Grip\n",
      "localhost:6419 1/4README.md\n",
      "Medical Cost Prediction\n",
      "Predictin...\n",
      "\n"
     ]
    },
    {
     "name": "stderr",
     "output_type": "stream",
     "text": [
      "python(3891) MallocStackLogging: can't turn off malloc stack logging because it was not enabled.\n",
      "huggingface/tokenizers: The current process just got forked, after parallelism has already been used. Disabling parallelism to avoid deadlocks...\n",
      "To disable this warning, you can either:\n",
      "\t- Avoid using `tokenizers` before the fork if possible\n",
      "\t- Explicitly set the environment variable TOKENIZERS_PARALLELISM=(true | false)\n"
     ]
    },
    {
     "name": "stdout",
     "output_type": "stream",
     "text": [
      "> Merging 1 nodes into parent node.\n",
      "> Parent node id: 203a9d57-c8df-4df8-a9a0-00668107434c.\n",
      "> Parent node text: 11/28/23, 11:00 PM README.md - Grip\n",
      "localhost:6419 2/4Installing\n",
      "Install the required packages fr...\n",
      "\n",
      "> Merging 1 nodes into parent node.\n",
      "> Parent node id: 36573faf-1388-4318-9d26-ebdd6abdaacc.\n",
      "> Parent node text: 11/28/23, 11:00 PM README.md - Grip\n",
      "localhost:6419 3/4\u0000. Create an IAM User - with AmazonEC2Conta...\n",
      "\n",
      "> Merging 1 nodes into parent node.\n",
      "> Parent node id: 5cc78f86-481e-4d22-bb0a-95455b676714.\n",
      "> Parent node text: 11/28/23, 11:00 PM README.md - Grip\n",
      "localhost:6419 4/4License\n",
      "This project is licensed under the ...\n",
      "\n",
      "> Merging 1 nodes into parent node.\n",
      "> Parent node id: dc183938-748b-4039-9e0b-67a98e6c79e3.\n",
      "> Parent node text: 11/28/23, 11:00 PM README.md - Grip\n",
      "localhost:6419 1/4README.md\n",
      "Medical Cost Prediction\n",
      "Predictin...\n",
      "\n",
      "> Merging 1 nodes into parent node.\n",
      "> Parent node id: 203a9d57-c8df-4df8-a9a0-00668107434c.\n",
      "> Parent node text: 11/28/23, 11:00 PM README.md - Grip\n",
      "localhost:6419 2/4Installing\n",
      "Install the required packages fr...\n",
      "\n",
      "> Merging 1 nodes into parent node.\n",
      "> Parent node id: 5cc78f86-481e-4d22-bb0a-95455b676714.\n",
      "> Parent node text: 11/28/23, 11:00 PM README.md - Grip\n",
      "localhost:6419 4/4License\n",
      "This project is licensed under the ...\n",
      "\n",
      "> Merging 1 nodes into parent node.\n",
      "> Parent node id: dc183938-748b-4039-9e0b-67a98e6c79e3.\n",
      "> Parent node text: 11/28/23, 11:00 PM README.md - Grip\n",
      "localhost:6419 1/4README.md\n",
      "Medical Cost Prediction\n",
      "Predictin...\n",
      "\n",
      "> Merging 1 nodes into parent node.\n",
      "> Parent node id: 36573faf-1388-4318-9d26-ebdd6abdaacc.\n",
      "> Parent node text: 11/28/23, 11:00 PM README.md - Grip\n",
      "localhost:6419 3/4\u0000. Create an IAM User - with AmazonEC2Conta...\n",
      "\n",
      "> Merging 1 nodes into parent node.\n",
      "> Parent node id: 203a9d57-c8df-4df8-a9a0-00668107434c.\n",
      "> Parent node text: 11/28/23, 11:00 PM README.md - Grip\n",
      "localhost:6419 2/4Installing\n",
      "Install the required packages fr...\n",
      "\n",
      "> Merging 1 nodes into parent node.\n",
      "> Parent node id: 5cc78f86-481e-4d22-bb0a-95455b676714.\n",
      "> Parent node text: 11/28/23, 11:00 PM README.md - Grip\n",
      "localhost:6419 4/4License\n",
      "This project is licensed under the ...\n",
      "\n",
      "> Merging 1 nodes into parent node.\n",
      "> Parent node id: 36573faf-1388-4318-9d26-ebdd6abdaacc.\n",
      "> Parent node text: 11/28/23, 11:00 PM README.md - Grip\n",
      "localhost:6419 3/4\u0000. Create an IAM User - with AmazonEC2Conta...\n",
      "\n",
      "> Merging 1 nodes into parent node.\n",
      "> Parent node id: dc183938-748b-4039-9e0b-67a98e6c79e3.\n",
      "> Parent node text: 11/28/23, 11:00 PM README.md - Grip\n",
      "localhost:6419 1/4README.md\n",
      "Medical Cost Prediction\n",
      "Predictin...\n",
      "\n",
      "> Merging 1 nodes into parent node.\n",
      "> Parent node id: 203a9d57-c8df-4df8-a9a0-00668107434c.\n",
      "> Parent node text: 11/28/23, 11:00 PM README.md - Grip\n",
      "localhost:6419 2/4Installing\n",
      "Install the required packages fr...\n",
      "\n",
      "> Merging 1 nodes into parent node.\n",
      "> Parent node id: 36573faf-1388-4318-9d26-ebdd6abdaacc.\n",
      "> Parent node text: 11/28/23, 11:00 PM README.md - Grip\n",
      "localhost:6419 3/4\u0000. Create an IAM User - with AmazonEC2Conta...\n",
      "\n",
      "> Merging 1 nodes into parent node.\n",
      "> Parent node id: 5cc78f86-481e-4d22-bb0a-95455b676714.\n",
      "> Parent node text: 11/28/23, 11:00 PM README.md - Grip\n",
      "localhost:6419 4/4License\n",
      "This project is licensed under the ...\n",
      "\n",
      "> Merging 1 nodes into parent node.\n",
      "> Parent node id: dc183938-748b-4039-9e0b-67a98e6c79e3.\n",
      "> Parent node text: 11/28/23, 11:00 PM README.md - Grip\n",
      "localhost:6419 1/4README.md\n",
      "Medical Cost Prediction\n",
      "Predictin...\n",
      "\n"
     ]
    }
   ],
   "source": [
    "run_evals(questions, tru_recorder, auto_merging_engine_1)"
   ]
  },
  {
   "cell_type": "code",
   "execution_count": 22,
   "metadata": {},
   "outputs": [
    {
     "data": {
      "text/html": [
       "<div>\n",
       "<style scoped>\n",
       "    .dataframe tbody tr th:only-of-type {\n",
       "        vertical-align: middle;\n",
       "    }\n",
       "\n",
       "    .dataframe tbody tr th {\n",
       "        vertical-align: top;\n",
       "    }\n",
       "\n",
       "    .dataframe thead th {\n",
       "        text-align: right;\n",
       "    }\n",
       "</style>\n",
       "<table border=\"1\" class=\"dataframe\">\n",
       "  <thead>\n",
       "    <tr style=\"text-align: right;\">\n",
       "      <th></th>\n",
       "      <th>Context Relevance</th>\n",
       "      <th>Answer Relevance</th>\n",
       "      <th>Groundedness</th>\n",
       "      <th>latency</th>\n",
       "      <th>total_cost</th>\n",
       "    </tr>\n",
       "    <tr>\n",
       "      <th>app_id</th>\n",
       "      <th></th>\n",
       "      <th></th>\n",
       "      <th></th>\n",
       "      <th></th>\n",
       "      <th></th>\n",
       "    </tr>\n",
       "  </thead>\n",
       "  <tbody>\n",
       "    <tr>\n",
       "      <th>app_0</th>\n",
       "      <td>0.40000</td>\n",
       "      <td>1.0</td>\n",
       "      <td>0.596667</td>\n",
       "      <td>5.8</td>\n",
       "      <td>0.001836</td>\n",
       "    </tr>\n",
       "    <tr>\n",
       "      <th>app_1</th>\n",
       "      <td>0.36875</td>\n",
       "      <td>1.0</td>\n",
       "      <td>0.666667</td>\n",
       "      <td>5.8</td>\n",
       "      <td>0.001837</td>\n",
       "    </tr>\n",
       "  </tbody>\n",
       "</table>\n",
       "</div>"
      ],
      "text/plain": [
       "        Context Relevance  Answer Relevance  Groundedness  latency  total_cost\n",
       "app_id                                                                        \n",
       "app_0             0.40000               1.0      0.596667      5.8    0.001836\n",
       "app_1             0.36875               1.0      0.666667      5.8    0.001837"
      ]
     },
     "execution_count": 22,
     "metadata": {},
     "output_type": "execute_result"
    }
   ],
   "source": [
    "from trulens_eval import Tru\n",
    "\n",
    "Tru().get_leaderboard(app_ids=[])"
   ]
  },
  {
   "cell_type": "code",
   "execution_count": 23,
   "metadata": {},
   "outputs": [
    {
     "name": "stdout",
     "output_type": "stream",
     "text": [
      "Starting dashboard ...\n",
      "Config file already exists. Skipping writing process.\n",
      "Credentials file already exists. Skipping writing process.\n",
      "Dashboard already running at path:   Network URL: http://192.168.4.34:8501\n",
      "\n"
     ]
    },
    {
     "data": {
      "text/plain": [
       "<Popen: returncode: None args: ['streamlit', 'run', '--server.headless=True'...>"
      ]
     },
     "execution_count": 23,
     "metadata": {},
     "output_type": "execute_result"
    }
   ],
   "source": [
    "Tru().run_dashboard()"
   ]
  },
  {
   "cell_type": "code",
   "execution_count": null,
   "metadata": {},
   "outputs": [],
   "source": []
  }
 ],
 "metadata": {
  "kernelspec": {
   "display_name": "Python 3 (ipykernel)",
   "language": "python",
   "name": "python3"
  },
  "language_info": {
   "codemirror_mode": {
    "name": "ipython",
    "version": 3
   },
   "file_extension": ".py",
   "mimetype": "text/x-python",
   "name": "python",
   "nbconvert_exporter": "python",
   "pygments_lexer": "ipython3",
   "version": "3.11.7"
  }
 },
 "nbformat": 4,
 "nbformat_minor": 4
}
